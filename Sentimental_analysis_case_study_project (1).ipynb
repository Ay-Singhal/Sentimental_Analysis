{
 "cells": [
  {
   "cell_type": "code",
   "execution_count": 582,
   "metadata": {
    "id": "IvIhpqAduw2t"
   },
   "outputs": [],
   "source": [
    "import pandas as pd\n",
    "import numpy as np\n",
    "import re\n",
    "import nltk\n",
    "import spacy\n",
    "import string\n",
    "from nltk.stem.porter import PorterStemmer\n",
    "from nltk.stem import WordNetLemmatizer"
   ]
  },
  {
   "cell_type": "code",
   "execution_count": 583,
   "metadata": {
    "id": "gZ510UKRxBDN"
   },
   "outputs": [],
   "source": [
    "data = pd.read_csv(\"case_study.csv\")"
   ]
  },
  {
   "cell_type": "code",
   "execution_count": 584,
   "metadata": {
    "colab": {
     "base_uri": "https://localhost:8080/",
     "height": 1000
    },
    "id": "6JKR0TmKxBFj",
    "outputId": "43f09aa6-8f2a-4911-f448-5ed903dec37f"
   },
   "outputs": [
    {
     "data": {
      "text/html": [
       "<div>\n",
       "<style scoped>\n",
       "    .dataframe tbody tr th:only-of-type {\n",
       "        vertical-align: middle;\n",
       "    }\n",
       "\n",
       "    .dataframe tbody tr th {\n",
       "        vertical-align: top;\n",
       "    }\n",
       "\n",
       "    .dataframe thead th {\n",
       "        text-align: right;\n",
       "    }\n",
       "</style>\n",
       "<table border=\"1\" class=\"dataframe\">\n",
       "  <thead>\n",
       "    <tr style=\"text-align: right;\">\n",
       "      <th></th>\n",
       "      <th>How are you feeling about the upcoming Semester Exam</th>\n",
       "      <th>How is your Preparation</th>\n",
       "      <th>What is your feeling in one word</th>\n",
       "      <th>Analysis</th>\n",
       "    </tr>\n",
       "  </thead>\n",
       "  <tbody>\n",
       "    <tr>\n",
       "      <th>0</th>\n",
       "      <td>Feeling No like all says that I have to study ...</td>\n",
       "      <td>Intermediate</td>\n",
       "      <td>Good</td>\n",
       "      <td>1</td>\n",
       "    </tr>\n",
       "    <tr>\n",
       "      <th>1</th>\n",
       "      <td>Feeling good</td>\n",
       "      <td>Going well.</td>\n",
       "      <td>Good</td>\n",
       "      <td>1</td>\n",
       "    </tr>\n",
       "    <tr>\n",
       "      <th>2</th>\n",
       "      <td>feel as suicide</td>\n",
       "      <td>i can say very bad</td>\n",
       "      <td>Bad</td>\n",
       "      <td>0</td>\n",
       "    </tr>\n",
       "    <tr>\n",
       "      <th>3</th>\n",
       "      <td>Fare in mind</td>\n",
       "      <td>Nothing</td>\n",
       "      <td>Bad</td>\n",
       "      <td>0</td>\n",
       "    </tr>\n",
       "    <tr>\n",
       "      <th>4</th>\n",
       "      <td>I am quite scared</td>\n",
       "      <td>Not prepared yet</td>\n",
       "      <td>Bad</td>\n",
       "      <td>0</td>\n",
       "    </tr>\n",
       "  </tbody>\n",
       "</table>\n",
       "</div>"
      ],
      "text/plain": [
       "  How are you feeling about the upcoming Semester Exam  \\\n",
       "0  Feeling No like all says that I have to study ...     \n",
       "1                                      Feeling good      \n",
       "2                                   feel as suicide      \n",
       "3                                       Fare in mind     \n",
       "4                                 I am quite scared      \n",
       "\n",
       "  How is your Preparation What is your feeling in one word  Analysis  \n",
       "0            Intermediate                             Good         1  \n",
       "1             Going well.                             Good         1  \n",
       "2      i can say very bad                              Bad         0  \n",
       "3                 Nothing                              Bad         0  \n",
       "4        Not prepared yet                              Bad         0  "
      ]
     },
     "execution_count": 584,
     "metadata": {},
     "output_type": "execute_result"
    }
   ],
   "source": [
    "data.head()"
   ]
  },
  {
   "cell_type": "code",
   "execution_count": 585,
   "metadata": {
    "id": "uLy6NjLlxBKX"
   },
   "outputs": [],
   "source": [
    "columns = [\"feelings\", \"prepration\", \"sentiments\", \"class\"]\n",
    "data.columns = columns"
   ]
  },
  {
   "cell_type": "code",
   "execution_count": 586,
   "metadata": {
    "colab": {
     "base_uri": "https://localhost:8080/"
    },
    "id": "miNvdcB9-l-A",
    "outputId": "ff2b2ddb-cdbc-444f-b5e7-40a28700a7d7"
   },
   "outputs": [
    {
     "data": {
      "text/plain": [
       "Index(['feelings', 'prepration', 'sentiments', 'class'], dtype='object')"
      ]
     },
     "execution_count": 586,
     "metadata": {},
     "output_type": "execute_result"
    }
   ],
   "source": [
    "data.columns"
   ]
  },
  {
   "cell_type": "code",
   "execution_count": 587,
   "metadata": {},
   "outputs": [
    {
     "data": {
      "text/html": [
       "<div>\n",
       "<style scoped>\n",
       "    .dataframe tbody tr th:only-of-type {\n",
       "        vertical-align: middle;\n",
       "    }\n",
       "\n",
       "    .dataframe tbody tr th {\n",
       "        vertical-align: top;\n",
       "    }\n",
       "\n",
       "    .dataframe thead th {\n",
       "        text-align: right;\n",
       "    }\n",
       "</style>\n",
       "<table border=\"1\" class=\"dataframe\">\n",
       "  <thead>\n",
       "    <tr style=\"text-align: right;\">\n",
       "      <th></th>\n",
       "      <th>feelings</th>\n",
       "      <th>prepration</th>\n",
       "      <th>sentiments</th>\n",
       "      <th>class</th>\n",
       "      <th>feelings_lower</th>\n",
       "      <th>prepration_lower</th>\n",
       "      <th>sentiments_lower</th>\n",
       "    </tr>\n",
       "  </thead>\n",
       "  <tbody>\n",
       "    <tr>\n",
       "      <th>0</th>\n",
       "      <td>Feeling No like all says that I have to study ...</td>\n",
       "      <td>Intermediate</td>\n",
       "      <td>Good</td>\n",
       "      <td>1</td>\n",
       "      <td>feeling no like all says that i have to study ...</td>\n",
       "      <td>intermediate</td>\n",
       "      <td>good</td>\n",
       "    </tr>\n",
       "    <tr>\n",
       "      <th>1</th>\n",
       "      <td>Feeling good</td>\n",
       "      <td>Going well.</td>\n",
       "      <td>Good</td>\n",
       "      <td>1</td>\n",
       "      <td>feeling good</td>\n",
       "      <td>going well.</td>\n",
       "      <td>good</td>\n",
       "    </tr>\n",
       "    <tr>\n",
       "      <th>2</th>\n",
       "      <td>feel as suicide</td>\n",
       "      <td>i can say very bad</td>\n",
       "      <td>Bad</td>\n",
       "      <td>0</td>\n",
       "      <td>feel as suicide</td>\n",
       "      <td>i can say very bad</td>\n",
       "      <td>bad</td>\n",
       "    </tr>\n",
       "    <tr>\n",
       "      <th>3</th>\n",
       "      <td>Fare in mind</td>\n",
       "      <td>Nothing</td>\n",
       "      <td>Bad</td>\n",
       "      <td>0</td>\n",
       "      <td>fare in mind</td>\n",
       "      <td>nothing</td>\n",
       "      <td>bad</td>\n",
       "    </tr>\n",
       "    <tr>\n",
       "      <th>4</th>\n",
       "      <td>I am quite scared</td>\n",
       "      <td>Not prepared yet</td>\n",
       "      <td>Bad</td>\n",
       "      <td>0</td>\n",
       "      <td>i am quite scared</td>\n",
       "      <td>not prepared yet</td>\n",
       "      <td>bad</td>\n",
       "    </tr>\n",
       "  </tbody>\n",
       "</table>\n",
       "</div>"
      ],
      "text/plain": [
       "                                            feelings          prepration  \\\n",
       "0  Feeling No like all says that I have to study ...        Intermediate   \n",
       "1                                      Feeling good          Going well.   \n",
       "2                                   feel as suicide   i can say very bad   \n",
       "3                                       Fare in mind             Nothing   \n",
       "4                                 I am quite scared     Not prepared yet   \n",
       "\n",
       "  sentiments  class                                     feelings_lower  \\\n",
       "0       Good      1  feeling no like all says that i have to study ...   \n",
       "1       Good      1                                      feeling good    \n",
       "2        Bad      0                                   feel as suicide    \n",
       "3        Bad      0                                       fare in mind   \n",
       "4        Bad      0                                 i am quite scared    \n",
       "\n",
       "     prepration_lower sentiments_lower  \n",
       "0        intermediate             good  \n",
       "1         going well.             good  \n",
       "2  i can say very bad              bad  \n",
       "3             nothing              bad  \n",
       "4    not prepared yet              bad  "
      ]
     },
     "execution_count": 587,
     "metadata": {},
     "output_type": "execute_result"
    }
   ],
   "source": [
    "data[\"feelings_lower\"] = data[\"feelings\"].str.lower()\n",
    "data[\"prepration_lower\"] = data[\"prepration\"].str.lower()\n",
    "data[\"sentiments_lower\"] = data[\"sentiments\"].str.lower()\n",
    "data.head()"
   ]
  },
  {
   "cell_type": "code",
   "execution_count": 588,
   "metadata": {},
   "outputs": [
    {
     "data": {
      "text/html": [
       "<div>\n",
       "<style scoped>\n",
       "    .dataframe tbody tr th:only-of-type {\n",
       "        vertical-align: middle;\n",
       "    }\n",
       "\n",
       "    .dataframe tbody tr th {\n",
       "        vertical-align: top;\n",
       "    }\n",
       "\n",
       "    .dataframe thead th {\n",
       "        text-align: right;\n",
       "    }\n",
       "</style>\n",
       "<table border=\"1\" class=\"dataframe\">\n",
       "  <thead>\n",
       "    <tr style=\"text-align: right;\">\n",
       "      <th></th>\n",
       "      <th>feelings</th>\n",
       "      <th>prepration</th>\n",
       "      <th>sentiments</th>\n",
       "      <th>class</th>\n",
       "      <th>feelings_lower</th>\n",
       "      <th>prepration_lower</th>\n",
       "      <th>sentiments_lower</th>\n",
       "      <th>feelings_punc</th>\n",
       "      <th>prepration_punc</th>\n",
       "      <th>sentiments_punc</th>\n",
       "    </tr>\n",
       "  </thead>\n",
       "  <tbody>\n",
       "    <tr>\n",
       "      <th>0</th>\n",
       "      <td>Feeling No like all says that I have to study ...</td>\n",
       "      <td>Intermediate</td>\n",
       "      <td>Good</td>\n",
       "      <td>1</td>\n",
       "      <td>feeling no like all says that i have to study ...</td>\n",
       "      <td>intermediate</td>\n",
       "      <td>good</td>\n",
       "      <td>feeling no like all says that i have to study ...</td>\n",
       "      <td>intermediate</td>\n",
       "      <td>good</td>\n",
       "    </tr>\n",
       "    <tr>\n",
       "      <th>1</th>\n",
       "      <td>Feeling good</td>\n",
       "      <td>Going well.</td>\n",
       "      <td>Good</td>\n",
       "      <td>1</td>\n",
       "      <td>feeling good</td>\n",
       "      <td>going well.</td>\n",
       "      <td>good</td>\n",
       "      <td>feeling good</td>\n",
       "      <td>going well</td>\n",
       "      <td>good</td>\n",
       "    </tr>\n",
       "    <tr>\n",
       "      <th>2</th>\n",
       "      <td>feel as suicide</td>\n",
       "      <td>i can say very bad</td>\n",
       "      <td>Bad</td>\n",
       "      <td>0</td>\n",
       "      <td>feel as suicide</td>\n",
       "      <td>i can say very bad</td>\n",
       "      <td>bad</td>\n",
       "      <td>feel as suicide</td>\n",
       "      <td>i can say very bad</td>\n",
       "      <td>bad</td>\n",
       "    </tr>\n",
       "    <tr>\n",
       "      <th>3</th>\n",
       "      <td>Fare in mind</td>\n",
       "      <td>Nothing</td>\n",
       "      <td>Bad</td>\n",
       "      <td>0</td>\n",
       "      <td>fare in mind</td>\n",
       "      <td>nothing</td>\n",
       "      <td>bad</td>\n",
       "      <td>fare in mind</td>\n",
       "      <td>nothing</td>\n",
       "      <td>bad</td>\n",
       "    </tr>\n",
       "    <tr>\n",
       "      <th>4</th>\n",
       "      <td>I am quite scared</td>\n",
       "      <td>Not prepared yet</td>\n",
       "      <td>Bad</td>\n",
       "      <td>0</td>\n",
       "      <td>i am quite scared</td>\n",
       "      <td>not prepared yet</td>\n",
       "      <td>bad</td>\n",
       "      <td>i am quite scared</td>\n",
       "      <td>not prepared yet</td>\n",
       "      <td>bad</td>\n",
       "    </tr>\n",
       "  </tbody>\n",
       "</table>\n",
       "</div>"
      ],
      "text/plain": [
       "                                            feelings          prepration  \\\n",
       "0  Feeling No like all says that I have to study ...        Intermediate   \n",
       "1                                      Feeling good          Going well.   \n",
       "2                                   feel as suicide   i can say very bad   \n",
       "3                                       Fare in mind             Nothing   \n",
       "4                                 I am quite scared     Not prepared yet   \n",
       "\n",
       "  sentiments  class                                     feelings_lower  \\\n",
       "0       Good      1  feeling no like all says that i have to study ...   \n",
       "1       Good      1                                      feeling good    \n",
       "2        Bad      0                                   feel as suicide    \n",
       "3        Bad      0                                       fare in mind   \n",
       "4        Bad      0                                 i am quite scared    \n",
       "\n",
       "     prepration_lower sentiments_lower  \\\n",
       "0        intermediate             good   \n",
       "1         going well.             good   \n",
       "2  i can say very bad              bad   \n",
       "3             nothing              bad   \n",
       "4    not prepared yet              bad   \n",
       "\n",
       "                                       feelings_punc     prepration_punc  \\\n",
       "0  feeling no like all says that i have to study ...        intermediate   \n",
       "1                                      feeling good           going well   \n",
       "2                                   feel as suicide   i can say very bad   \n",
       "3                                       fare in mind             nothing   \n",
       "4                                 i am quite scared     not prepared yet   \n",
       "\n",
       "  sentiments_punc  \n",
       "0            good  \n",
       "1            good  \n",
       "2             bad  \n",
       "3             bad  \n",
       "4             bad  "
      ]
     },
     "execution_count": 588,
     "metadata": {},
     "output_type": "execute_result"
    }
   ],
   "source": [
    "PUNCT_TO_REMOVE = string.punctuation\n",
    "def remove_punctuation(text):\n",
    "    \"\"\"custom function to remove the punctuation\"\"\"\n",
    "    return text.translate(str.maketrans('', '', PUNCT_TO_REMOVE))\n",
    "\n",
    "data[\"feelings_punc\"] = data[\"feelings_lower\"].apply(lambda text: remove_punctuation(text))\n",
    "data[\"prepration_punc\"] = data[\"prepration_lower\"].apply(lambda text: remove_punctuation(text))\n",
    "data[\"sentiments_punc\"] = data[\"sentiments_lower\"].apply(lambda text: remove_punctuation(text))\n",
    "data.head()"
   ]
  },
  {
   "cell_type": "code",
   "execution_count": 589,
   "metadata": {},
   "outputs": [
    {
     "data": {
      "text/plain": [
       "\"i, me, my, myself, we, our, ours, ourselves, you, you're, you've, you'll, you'd, your, yours, yourself, yourselves, he, him, his, himself, she, she's, her, hers, herself, it, it's, its, itself, they, them, their, theirs, themselves, what, which, who, whom, this, that, that'll, these, those, am, is, are, was, were, be, been, being, have, has, had, having, do, does, did, doing, a, an, the, and, but, if, or, because, as, until, while, of, at, by, for, with, about, against, between, into, through, during, before, after, above, below, to, from, up, down, in, out, on, off, over, under, again, further, then, once, here, there, when, where, why, how, all, any, both, each, few, more, most, other, some, such, no, nor, not, only, own, same, so, than, too, very, s, t, can, will, just, don, don't, should, should've, now, d, ll, m, o, re, ve, y, ain, aren, aren't, couldn, couldn't, didn, didn't, doesn, doesn't, hadn, hadn't, hasn, hasn't, haven, haven't, isn, isn't, ma, mightn, mightn't, mustn, mustn't, needn, needn't, shan, shan't, shouldn, shouldn't, wasn, wasn't, weren, weren't, won, won't, wouldn, wouldn't\""
      ]
     },
     "execution_count": 589,
     "metadata": {},
     "output_type": "execute_result"
    }
   ],
   "source": [
    "from nltk.corpus import stopwords\n",
    "\", \".join(stopwords.words('english'))"
   ]
  },
  {
   "cell_type": "code",
   "execution_count": 590,
   "metadata": {},
   "outputs": [
    {
     "data": {
      "text/html": [
       "<div>\n",
       "<style scoped>\n",
       "    .dataframe tbody tr th:only-of-type {\n",
       "        vertical-align: middle;\n",
       "    }\n",
       "\n",
       "    .dataframe tbody tr th {\n",
       "        vertical-align: top;\n",
       "    }\n",
       "\n",
       "    .dataframe thead th {\n",
       "        text-align: right;\n",
       "    }\n",
       "</style>\n",
       "<table border=\"1\" class=\"dataframe\">\n",
       "  <thead>\n",
       "    <tr style=\"text-align: right;\">\n",
       "      <th></th>\n",
       "      <th>feelings</th>\n",
       "      <th>prepration</th>\n",
       "      <th>sentiments</th>\n",
       "      <th>class</th>\n",
       "      <th>feelings_lower</th>\n",
       "      <th>prepration_lower</th>\n",
       "      <th>sentiments_lower</th>\n",
       "      <th>feelings_punc</th>\n",
       "      <th>prepration_punc</th>\n",
       "      <th>sentiments_punc</th>\n",
       "      <th>feeling_stop</th>\n",
       "      <th>prepration_stop</th>\n",
       "    </tr>\n",
       "  </thead>\n",
       "  <tbody>\n",
       "    <tr>\n",
       "      <th>0</th>\n",
       "      <td>Feeling No like all says that I have to study ...</td>\n",
       "      <td>Intermediate</td>\n",
       "      <td>Good</td>\n",
       "      <td>1</td>\n",
       "      <td>feeling no like all says that i have to study ...</td>\n",
       "      <td>intermediate</td>\n",
       "      <td>good</td>\n",
       "      <td>feeling no like all says that i have to study ...</td>\n",
       "      <td>intermediate</td>\n",
       "      <td>good</td>\n",
       "      <td>feeling like says study much</td>\n",
       "      <td>intermediate</td>\n",
       "    </tr>\n",
       "    <tr>\n",
       "      <th>1</th>\n",
       "      <td>Feeling good</td>\n",
       "      <td>Going well.</td>\n",
       "      <td>Good</td>\n",
       "      <td>1</td>\n",
       "      <td>feeling good</td>\n",
       "      <td>going well.</td>\n",
       "      <td>good</td>\n",
       "      <td>feeling good</td>\n",
       "      <td>going well</td>\n",
       "      <td>good</td>\n",
       "      <td>feeling good</td>\n",
       "      <td>going well</td>\n",
       "    </tr>\n",
       "    <tr>\n",
       "      <th>2</th>\n",
       "      <td>feel as suicide</td>\n",
       "      <td>i can say very bad</td>\n",
       "      <td>Bad</td>\n",
       "      <td>0</td>\n",
       "      <td>feel as suicide</td>\n",
       "      <td>i can say very bad</td>\n",
       "      <td>bad</td>\n",
       "      <td>feel as suicide</td>\n",
       "      <td>i can say very bad</td>\n",
       "      <td>bad</td>\n",
       "      <td>feel suicide</td>\n",
       "      <td>say bad</td>\n",
       "    </tr>\n",
       "    <tr>\n",
       "      <th>3</th>\n",
       "      <td>Fare in mind</td>\n",
       "      <td>Nothing</td>\n",
       "      <td>Bad</td>\n",
       "      <td>0</td>\n",
       "      <td>fare in mind</td>\n",
       "      <td>nothing</td>\n",
       "      <td>bad</td>\n",
       "      <td>fare in mind</td>\n",
       "      <td>nothing</td>\n",
       "      <td>bad</td>\n",
       "      <td>fare mind</td>\n",
       "      <td>nothing</td>\n",
       "    </tr>\n",
       "    <tr>\n",
       "      <th>4</th>\n",
       "      <td>I am quite scared</td>\n",
       "      <td>Not prepared yet</td>\n",
       "      <td>Bad</td>\n",
       "      <td>0</td>\n",
       "      <td>i am quite scared</td>\n",
       "      <td>not prepared yet</td>\n",
       "      <td>bad</td>\n",
       "      <td>i am quite scared</td>\n",
       "      <td>not prepared yet</td>\n",
       "      <td>bad</td>\n",
       "      <td>quite scared</td>\n",
       "      <td>prepared yet</td>\n",
       "    </tr>\n",
       "  </tbody>\n",
       "</table>\n",
       "</div>"
      ],
      "text/plain": [
       "                                            feelings          prepration  \\\n",
       "0  Feeling No like all says that I have to study ...        Intermediate   \n",
       "1                                      Feeling good          Going well.   \n",
       "2                                   feel as suicide   i can say very bad   \n",
       "3                                       Fare in mind             Nothing   \n",
       "4                                 I am quite scared     Not prepared yet   \n",
       "\n",
       "  sentiments  class                                     feelings_lower  \\\n",
       "0       Good      1  feeling no like all says that i have to study ...   \n",
       "1       Good      1                                      feeling good    \n",
       "2        Bad      0                                   feel as suicide    \n",
       "3        Bad      0                                       fare in mind   \n",
       "4        Bad      0                                 i am quite scared    \n",
       "\n",
       "     prepration_lower sentiments_lower  \\\n",
       "0        intermediate             good   \n",
       "1         going well.             good   \n",
       "2  i can say very bad              bad   \n",
       "3             nothing              bad   \n",
       "4    not prepared yet              bad   \n",
       "\n",
       "                                       feelings_punc     prepration_punc  \\\n",
       "0  feeling no like all says that i have to study ...        intermediate   \n",
       "1                                      feeling good           going well   \n",
       "2                                   feel as suicide   i can say very bad   \n",
       "3                                       fare in mind             nothing   \n",
       "4                                 i am quite scared     not prepared yet   \n",
       "\n",
       "  sentiments_punc                  feeling_stop prepration_stop  \n",
       "0            good  feeling like says study much    intermediate  \n",
       "1            good                  feeling good      going well  \n",
       "2             bad                  feel suicide         say bad  \n",
       "3             bad                     fare mind         nothing  \n",
       "4             bad                  quite scared    prepared yet  "
      ]
     },
     "execution_count": 590,
     "metadata": {},
     "output_type": "execute_result"
    }
   ],
   "source": [
    "STOPWORDS = set(stopwords.words('english'))\n",
    "def remove_stopwords(text):\n",
    "    \"\"\"custom function to remove the stopwords\"\"\"\n",
    "    return \" \".join([word for word in str(text).split() if word not in STOPWORDS])\n",
    "\n",
    "data[\"feeling_stop\"] = data[\"feelings_punc\"].apply(lambda text: remove_stopwords(text))\n",
    "data[\"prepration_stop\"] = data[\"prepration_punc\"].apply(lambda text: remove_stopwords(text))\n",
    "\n",
    "data.head()"
   ]
  },
  {
   "cell_type": "code",
   "execution_count": 591,
   "metadata": {},
   "outputs": [
    {
     "data": {
      "text/plain": [
       "Index(['feelings', 'prepration', 'sentiments', 'class', 'feelings_lower',\n",
       "       'prepration_lower', 'sentiments_lower', 'feelings_punc',\n",
       "       'prepration_punc', 'sentiments_punc', 'feeling_stop',\n",
       "       'prepration_stop'],\n",
       "      dtype='object')"
      ]
     },
     "execution_count": 591,
     "metadata": {},
     "output_type": "execute_result"
    }
   ],
   "source": [
    "data.columns"
   ]
  },
  {
   "cell_type": "code",
   "execution_count": 592,
   "metadata": {},
   "outputs": [],
   "source": [
    "data = data.drop(['feelings', 'prepration', 'sentiments', 'feelings_lower',\n",
    "       'prepration_lower', 'sentiments_lower', 'feelings_punc',\n",
    "       'prepration_punc'], axis = 1)"
   ]
  },
  {
   "cell_type": "code",
   "execution_count": 593,
   "metadata": {},
   "outputs": [
    {
     "data": {
      "text/html": [
       "<div>\n",
       "<style scoped>\n",
       "    .dataframe tbody tr th:only-of-type {\n",
       "        vertical-align: middle;\n",
       "    }\n",
       "\n",
       "    .dataframe tbody tr th {\n",
       "        vertical-align: top;\n",
       "    }\n",
       "\n",
       "    .dataframe thead th {\n",
       "        text-align: right;\n",
       "    }\n",
       "</style>\n",
       "<table border=\"1\" class=\"dataframe\">\n",
       "  <thead>\n",
       "    <tr style=\"text-align: right;\">\n",
       "      <th></th>\n",
       "      <th>class</th>\n",
       "      <th>sentiments_punc</th>\n",
       "      <th>feeling_stop</th>\n",
       "      <th>prepration_stop</th>\n",
       "    </tr>\n",
       "  </thead>\n",
       "  <tbody>\n",
       "    <tr>\n",
       "      <th>0</th>\n",
       "      <td>1</td>\n",
       "      <td>good</td>\n",
       "      <td>feeling like says study much</td>\n",
       "      <td>intermediate</td>\n",
       "    </tr>\n",
       "    <tr>\n",
       "      <th>1</th>\n",
       "      <td>1</td>\n",
       "      <td>good</td>\n",
       "      <td>feeling good</td>\n",
       "      <td>going well</td>\n",
       "    </tr>\n",
       "    <tr>\n",
       "      <th>2</th>\n",
       "      <td>0</td>\n",
       "      <td>bad</td>\n",
       "      <td>feel suicide</td>\n",
       "      <td>say bad</td>\n",
       "    </tr>\n",
       "    <tr>\n",
       "      <th>3</th>\n",
       "      <td>0</td>\n",
       "      <td>bad</td>\n",
       "      <td>fare mind</td>\n",
       "      <td>nothing</td>\n",
       "    </tr>\n",
       "    <tr>\n",
       "      <th>4</th>\n",
       "      <td>0</td>\n",
       "      <td>bad</td>\n",
       "      <td>quite scared</td>\n",
       "      <td>prepared yet</td>\n",
       "    </tr>\n",
       "  </tbody>\n",
       "</table>\n",
       "</div>"
      ],
      "text/plain": [
       "   class sentiments_punc                  feeling_stop prepration_stop\n",
       "0      1            good  feeling like says study much    intermediate\n",
       "1      1            good                  feeling good      going well\n",
       "2      0             bad                  feel suicide         say bad\n",
       "3      0             bad                     fare mind         nothing\n",
       "4      0             bad                  quite scared    prepared yet"
      ]
     },
     "execution_count": 593,
     "metadata": {},
     "output_type": "execute_result"
    }
   ],
   "source": [
    "data.head()"
   ]
  },
  {
   "cell_type": "code",
   "execution_count": 594,
   "metadata": {},
   "outputs": [
    {
     "data": {
      "text/plain": [
       "array(['good', 'bad'], dtype=object)"
      ]
     },
     "execution_count": 594,
     "metadata": {},
     "output_type": "execute_result"
    }
   ],
   "source": [
    "data[\"sentiments_punc\"].unique()"
   ]
  },
  {
   "cell_type": "code",
   "execution_count": 595,
   "metadata": {},
   "outputs": [
    {
     "data": {
      "text/html": [
       "<div>\n",
       "<style scoped>\n",
       "    .dataframe tbody tr th:only-of-type {\n",
       "        vertical-align: middle;\n",
       "    }\n",
       "\n",
       "    .dataframe tbody tr th {\n",
       "        vertical-align: top;\n",
       "    }\n",
       "\n",
       "    .dataframe thead th {\n",
       "        text-align: right;\n",
       "    }\n",
       "</style>\n",
       "<table border=\"1\" class=\"dataframe\">\n",
       "  <thead>\n",
       "    <tr style=\"text-align: right;\">\n",
       "      <th></th>\n",
       "      <th>class</th>\n",
       "      <th>sentiments_punc</th>\n",
       "      <th>feeling_stop</th>\n",
       "      <th>prepration_stop</th>\n",
       "      <th>tokenised_feelings</th>\n",
       "      <th>tokenised_prepration</th>\n",
       "    </tr>\n",
       "  </thead>\n",
       "  <tbody>\n",
       "    <tr>\n",
       "      <th>0</th>\n",
       "      <td>1</td>\n",
       "      <td>good</td>\n",
       "      <td>feeling like says study much</td>\n",
       "      <td>intermediate</td>\n",
       "      <td>[feeling, like, says, study, much]</td>\n",
       "      <td>[intermediate]</td>\n",
       "    </tr>\n",
       "    <tr>\n",
       "      <th>1</th>\n",
       "      <td>1</td>\n",
       "      <td>good</td>\n",
       "      <td>feeling good</td>\n",
       "      <td>going well</td>\n",
       "      <td>[feeling, good]</td>\n",
       "      <td>[going, well]</td>\n",
       "    </tr>\n",
       "    <tr>\n",
       "      <th>2</th>\n",
       "      <td>0</td>\n",
       "      <td>bad</td>\n",
       "      <td>feel suicide</td>\n",
       "      <td>say bad</td>\n",
       "      <td>[feel, suicide]</td>\n",
       "      <td>[say, bad]</td>\n",
       "    </tr>\n",
       "    <tr>\n",
       "      <th>3</th>\n",
       "      <td>0</td>\n",
       "      <td>bad</td>\n",
       "      <td>fare mind</td>\n",
       "      <td>nothing</td>\n",
       "      <td>[fare, mind]</td>\n",
       "      <td>[nothing]</td>\n",
       "    </tr>\n",
       "    <tr>\n",
       "      <th>4</th>\n",
       "      <td>0</td>\n",
       "      <td>bad</td>\n",
       "      <td>quite scared</td>\n",
       "      <td>prepared yet</td>\n",
       "      <td>[quite, scared]</td>\n",
       "      <td>[prepared, yet]</td>\n",
       "    </tr>\n",
       "  </tbody>\n",
       "</table>\n",
       "</div>"
      ],
      "text/plain": [
       "   class sentiments_punc                  feeling_stop prepration_stop  \\\n",
       "0      1            good  feeling like says study much    intermediate   \n",
       "1      1            good                  feeling good      going well   \n",
       "2      0             bad                  feel suicide         say bad   \n",
       "3      0             bad                     fare mind         nothing   \n",
       "4      0             bad                  quite scared    prepared yet   \n",
       "\n",
       "                   tokenised_feelings tokenised_prepration  \n",
       "0  [feeling, like, says, study, much]       [intermediate]  \n",
       "1                     [feeling, good]        [going, well]  \n",
       "2                     [feel, suicide]           [say, bad]  \n",
       "3                        [fare, mind]            [nothing]  \n",
       "4                     [quite, scared]      [prepared, yet]  "
      ]
     },
     "execution_count": 595,
     "metadata": {},
     "output_type": "execute_result"
    }
   ],
   "source": [
    "from nltk.tokenize import WhitespaceTokenizer\n",
    "def tokenization(text):\n",
    "    tk = WhitespaceTokenizer()\n",
    "    return tk.tokenize(text)\n",
    " \n",
    "#applying function to the column for making tokens in both Training and Testing data\n",
    "data['tokenised_feelings']= data['feeling_stop'].apply(lambda x: tokenization(x))\n",
    "data['tokenised_prepration']= data['prepration_stop'].apply(lambda x: tokenization(x))\n",
    "\n",
    "data.head()"
   ]
  },
  {
   "cell_type": "code",
   "execution_count": 596,
   "metadata": {},
   "outputs": [],
   "source": [
    "data = pd.DataFrame(data)"
   ]
  },
  {
   "cell_type": "code",
   "execution_count": 597,
   "metadata": {},
   "outputs": [],
   "source": [
    "# Define a function to lemmatization\n",
    "def lemmatize(tokens):\n",
    "    \"\"\"This function lemmatize the messages\"\"\"\n",
    "    # Initialize the WordNetLemmatizer\n",
    "    lemmatizer = WordNetLemmatizer()\n",
    "    # Create the lemmatized list\n",
    "    lemmatized = []\n",
    "    for token in tokens:\n",
    "            # Lemmatize and append\n",
    "            lemmatized.append(lemmatizer.lemmatize(token))\n",
    "    return \" \".join(lemmatized)\n",
    "\n",
    "# Apply our function to tokens\n",
    "data[\"feeling_lemmatize\"] =  data[\"tokenised_feelings\"].apply(lambda text: lemmatize(text))\n",
    "data[\"prepration_lemmatize\"] =  data[\"tokenised_prepration\"].apply(lambda text: lemmatize(text))\n"
   ]
  },
  {
   "cell_type": "code",
   "execution_count": 598,
   "metadata": {},
   "outputs": [
    {
     "data": {
      "text/html": [
       "<div>\n",
       "<style scoped>\n",
       "    .dataframe tbody tr th:only-of-type {\n",
       "        vertical-align: middle;\n",
       "    }\n",
       "\n",
       "    .dataframe tbody tr th {\n",
       "        vertical-align: top;\n",
       "    }\n",
       "\n",
       "    .dataframe thead th {\n",
       "        text-align: right;\n",
       "    }\n",
       "</style>\n",
       "<table border=\"1\" class=\"dataframe\">\n",
       "  <thead>\n",
       "    <tr style=\"text-align: right;\">\n",
       "      <th></th>\n",
       "      <th>class</th>\n",
       "      <th>sentiments_punc</th>\n",
       "      <th>feeling_stop</th>\n",
       "      <th>prepration_stop</th>\n",
       "      <th>tokenised_feelings</th>\n",
       "      <th>tokenised_prepration</th>\n",
       "      <th>feeling_lemmatize</th>\n",
       "      <th>prepration_lemmatize</th>\n",
       "    </tr>\n",
       "  </thead>\n",
       "  <tbody>\n",
       "    <tr>\n",
       "      <th>0</th>\n",
       "      <td>1</td>\n",
       "      <td>good</td>\n",
       "      <td>feeling like says study much</td>\n",
       "      <td>intermediate</td>\n",
       "      <td>[feeling, like, says, study, much]</td>\n",
       "      <td>[intermediate]</td>\n",
       "      <td>feeling like say study much</td>\n",
       "      <td>intermediate</td>\n",
       "    </tr>\n",
       "    <tr>\n",
       "      <th>1</th>\n",
       "      <td>1</td>\n",
       "      <td>good</td>\n",
       "      <td>feeling good</td>\n",
       "      <td>going well</td>\n",
       "      <td>[feeling, good]</td>\n",
       "      <td>[going, well]</td>\n",
       "      <td>feeling good</td>\n",
       "      <td>going well</td>\n",
       "    </tr>\n",
       "    <tr>\n",
       "      <th>2</th>\n",
       "      <td>0</td>\n",
       "      <td>bad</td>\n",
       "      <td>feel suicide</td>\n",
       "      <td>say bad</td>\n",
       "      <td>[feel, suicide]</td>\n",
       "      <td>[say, bad]</td>\n",
       "      <td>feel suicide</td>\n",
       "      <td>say bad</td>\n",
       "    </tr>\n",
       "    <tr>\n",
       "      <th>3</th>\n",
       "      <td>0</td>\n",
       "      <td>bad</td>\n",
       "      <td>fare mind</td>\n",
       "      <td>nothing</td>\n",
       "      <td>[fare, mind]</td>\n",
       "      <td>[nothing]</td>\n",
       "      <td>fare mind</td>\n",
       "      <td>nothing</td>\n",
       "    </tr>\n",
       "    <tr>\n",
       "      <th>4</th>\n",
       "      <td>0</td>\n",
       "      <td>bad</td>\n",
       "      <td>quite scared</td>\n",
       "      <td>prepared yet</td>\n",
       "      <td>[quite, scared]</td>\n",
       "      <td>[prepared, yet]</td>\n",
       "      <td>quite scared</td>\n",
       "      <td>prepared yet</td>\n",
       "    </tr>\n",
       "  </tbody>\n",
       "</table>\n",
       "</div>"
      ],
      "text/plain": [
       "   class sentiments_punc                  feeling_stop prepration_stop  \\\n",
       "0      1            good  feeling like says study much    intermediate   \n",
       "1      1            good                  feeling good      going well   \n",
       "2      0             bad                  feel suicide         say bad   \n",
       "3      0             bad                     fare mind         nothing   \n",
       "4      0             bad                  quite scared    prepared yet   \n",
       "\n",
       "                   tokenised_feelings tokenised_prepration  \\\n",
       "0  [feeling, like, says, study, much]       [intermediate]   \n",
       "1                     [feeling, good]        [going, well]   \n",
       "2                     [feel, suicide]           [say, bad]   \n",
       "3                        [fare, mind]            [nothing]   \n",
       "4                     [quite, scared]      [prepared, yet]   \n",
       "\n",
       "             feeling_lemmatize prepration_lemmatize  \n",
       "0  feeling like say study much         intermediate  \n",
       "1                 feeling good           going well  \n",
       "2                 feel suicide              say bad  \n",
       "3                    fare mind              nothing  \n",
       "4                 quite scared         prepared yet  "
      ]
     },
     "execution_count": 598,
     "metadata": {},
     "output_type": "execute_result"
    }
   ],
   "source": [
    "data.head()"
   ]
  },
  {
   "cell_type": "code",
   "execution_count": 599,
   "metadata": {},
   "outputs": [
    {
     "data": {
      "text/plain": [
       "Index(['class', 'sentiments_punc', 'feeling_stop', 'prepration_stop',\n",
       "       'tokenised_feelings', 'tokenised_prepration', 'feeling_lemmatize',\n",
       "       'prepration_lemmatize'],\n",
       "      dtype='object')"
      ]
     },
     "execution_count": 599,
     "metadata": {},
     "output_type": "execute_result"
    }
   ],
   "source": [
    "data.columns"
   ]
  },
  {
   "cell_type": "code",
   "execution_count": 600,
   "metadata": {},
   "outputs": [],
   "source": [
    "data = data.drop(['feeling_stop', 'prepration_stop',\n",
    "       'tokenised_feelings', 'tokenised_prepration'], axis = 1)"
   ]
  },
  {
   "cell_type": "code",
   "execution_count": 601,
   "metadata": {},
   "outputs": [
    {
     "data": {
      "text/html": [
       "<div>\n",
       "<style scoped>\n",
       "    .dataframe tbody tr th:only-of-type {\n",
       "        vertical-align: middle;\n",
       "    }\n",
       "\n",
       "    .dataframe tbody tr th {\n",
       "        vertical-align: top;\n",
       "    }\n",
       "\n",
       "    .dataframe thead th {\n",
       "        text-align: right;\n",
       "    }\n",
       "</style>\n",
       "<table border=\"1\" class=\"dataframe\">\n",
       "  <thead>\n",
       "    <tr style=\"text-align: right;\">\n",
       "      <th></th>\n",
       "      <th>class</th>\n",
       "      <th>sentiments_punc</th>\n",
       "      <th>feeling_lemmatize</th>\n",
       "      <th>prepration_lemmatize</th>\n",
       "    </tr>\n",
       "  </thead>\n",
       "  <tbody>\n",
       "    <tr>\n",
       "      <th>0</th>\n",
       "      <td>1</td>\n",
       "      <td>good</td>\n",
       "      <td>feeling like say study much</td>\n",
       "      <td>intermediate</td>\n",
       "    </tr>\n",
       "    <tr>\n",
       "      <th>1</th>\n",
       "      <td>1</td>\n",
       "      <td>good</td>\n",
       "      <td>feeling good</td>\n",
       "      <td>going well</td>\n",
       "    </tr>\n",
       "    <tr>\n",
       "      <th>2</th>\n",
       "      <td>0</td>\n",
       "      <td>bad</td>\n",
       "      <td>feel suicide</td>\n",
       "      <td>say bad</td>\n",
       "    </tr>\n",
       "    <tr>\n",
       "      <th>3</th>\n",
       "      <td>0</td>\n",
       "      <td>bad</td>\n",
       "      <td>fare mind</td>\n",
       "      <td>nothing</td>\n",
       "    </tr>\n",
       "    <tr>\n",
       "      <th>4</th>\n",
       "      <td>0</td>\n",
       "      <td>bad</td>\n",
       "      <td>quite scared</td>\n",
       "      <td>prepared yet</td>\n",
       "    </tr>\n",
       "  </tbody>\n",
       "</table>\n",
       "</div>"
      ],
      "text/plain": [
       "   class sentiments_punc            feeling_lemmatize prepration_lemmatize\n",
       "0      1            good  feeling like say study much         intermediate\n",
       "1      1            good                 feeling good           going well\n",
       "2      0             bad                 feel suicide              say bad\n",
       "3      0             bad                    fare mind              nothing\n",
       "4      0             bad                 quite scared         prepared yet"
      ]
     },
     "execution_count": 601,
     "metadata": {},
     "output_type": "execute_result"
    }
   ],
   "source": [
    "data.head()"
   ]
  },
  {
   "cell_type": "code",
   "execution_count": 602,
   "metadata": {},
   "outputs": [],
   "source": [
    "columns = [\"class\",\"sentiments\", \"feelings\", \"prepration\"]\n",
    "data.columns = columns"
   ]
  },
  {
   "cell_type": "code",
   "execution_count": 603,
   "metadata": {},
   "outputs": [
    {
     "data": {
      "text/html": [
       "<div>\n",
       "<style scoped>\n",
       "    .dataframe tbody tr th:only-of-type {\n",
       "        vertical-align: middle;\n",
       "    }\n",
       "\n",
       "    .dataframe tbody tr th {\n",
       "        vertical-align: top;\n",
       "    }\n",
       "\n",
       "    .dataframe thead th {\n",
       "        text-align: right;\n",
       "    }\n",
       "</style>\n",
       "<table border=\"1\" class=\"dataframe\">\n",
       "  <thead>\n",
       "    <tr style=\"text-align: right;\">\n",
       "      <th></th>\n",
       "      <th>class</th>\n",
       "      <th>sentiments</th>\n",
       "      <th>feelings</th>\n",
       "      <th>prepration</th>\n",
       "    </tr>\n",
       "  </thead>\n",
       "  <tbody>\n",
       "    <tr>\n",
       "      <th>0</th>\n",
       "      <td>1</td>\n",
       "      <td>good</td>\n",
       "      <td>feeling like say study much</td>\n",
       "      <td>intermediate</td>\n",
       "    </tr>\n",
       "    <tr>\n",
       "      <th>1</th>\n",
       "      <td>1</td>\n",
       "      <td>good</td>\n",
       "      <td>feeling good</td>\n",
       "      <td>going well</td>\n",
       "    </tr>\n",
       "    <tr>\n",
       "      <th>2</th>\n",
       "      <td>0</td>\n",
       "      <td>bad</td>\n",
       "      <td>feel suicide</td>\n",
       "      <td>say bad</td>\n",
       "    </tr>\n",
       "    <tr>\n",
       "      <th>3</th>\n",
       "      <td>0</td>\n",
       "      <td>bad</td>\n",
       "      <td>fare mind</td>\n",
       "      <td>nothing</td>\n",
       "    </tr>\n",
       "    <tr>\n",
       "      <th>4</th>\n",
       "      <td>0</td>\n",
       "      <td>bad</td>\n",
       "      <td>quite scared</td>\n",
       "      <td>prepared yet</td>\n",
       "    </tr>\n",
       "  </tbody>\n",
       "</table>\n",
       "</div>"
      ],
      "text/plain": [
       "   class sentiments                     feelings    prepration\n",
       "0      1       good  feeling like say study much  intermediate\n",
       "1      1       good                 feeling good    going well\n",
       "2      0        bad                 feel suicide       say bad\n",
       "3      0        bad                    fare mind       nothing\n",
       "4      0        bad                 quite scared  prepared yet"
      ]
     },
     "execution_count": 603,
     "metadata": {},
     "output_type": "execute_result"
    }
   ],
   "source": [
    "data.head()"
   ]
  },
  {
   "cell_type": "markdown",
   "metadata": {},
   "source": [
    "#  Strating Naive Bayes"
   ]
  },
  {
   "cell_type": "code",
   "execution_count": 604,
   "metadata": {},
   "outputs": [],
   "source": [
    "import matplotlib.pyplot as plt\n",
    "import seaborn as sns\n",
    "\n",
    "# We will visualize the messages with a word cloud\n",
    "from wordcloud import WordCloud\n",
    "\n",
    "# Multinomial Naive Bayes Classifier\n",
    "from sklearn.naive_bayes import MultinomialNB\n",
    "\n",
    "# Import Tf-idf Vectorizer\n",
    "from sklearn.feature_extraction.text import TfidfVectorizer\n",
    "\n",
    "# Import the Label Encoder\n",
    "from sklearn.preprocessing import LabelEncoder\n",
    "\n",
    "# Import the train test split\n",
    "from sklearn.model_selection import train_test_split\n",
    "\n",
    "# To evaluate our model\n",
    "from sklearn.metrics import accuracy_score\n",
    "from sklearn.metrics import confusion_matrix\n",
    "from sklearn.metrics import classification_report\n",
    "from sklearn.metrics import roc_curve, auc\n",
    "from sklearn.metrics import roc_auc_score\n",
    "\n",
    "# # I will keep the resulting plots\n",
    "# %matplotlib inline\n",
    "\n",
    "# # Enable Jupyter Notebook's intellisense\n",
    "# %config IPCompleter.greedy=True"
   ]
  },
  {
   "cell_type": "code",
   "execution_count": 605,
   "metadata": {},
   "outputs": [
    {
     "name": "stdout",
     "output_type": "stream",
     "text": [
      "bad     157\n",
      "good     89\n",
      "Name: sentiments, dtype: int64\n"
     ]
    }
   ],
   "source": [
    "print(data['sentiments'].value_counts())"
   ]
  },
  {
   "cell_type": "code",
   "execution_count": 606,
   "metadata": {},
   "outputs": [
    {
     "name": "stdout",
     "output_type": "stream",
     "text": [
      "bad     0.638211\n",
      "good    0.361789\n",
      "Name: sentiments, dtype: float64\n"
     ]
    }
   ],
   "source": [
    "# Print the proportions of each category\n",
    "print(data['sentiments'].value_counts(normalize=True))"
   ]
  },
  {
   "cell_type": "code",
   "execution_count": 607,
   "metadata": {},
   "outputs": [
    {
     "name": "stderr",
     "output_type": "stream",
     "text": [
      "C:\\Users\\HP\\anaconda3\\lib\\site-packages\\seaborn\\_decorators.py:36: FutureWarning: Pass the following variable as a keyword arg: x. From version 0.12, the only valid positional argument will be `data`, and passing other arguments without an explicit keyword will result in an error or misinterpretation.\n",
      "  warnings.warn(\n"
     ]
    },
    {
     "data": {
      "image/png": "[encoded data removed]",
      "text/plain": [
       "<Figure size 432x288 with 1 Axes>"
      ]
     },
     "metadata": {
      "needs_background": "light"
     },
     "output_type": "display_data"
    },
    {
     "data": {
      "text/plain": [
       "<Figure size 1440x720 with 0 Axes>"
      ]
     },
     "metadata": {},
     "output_type": "display_data"
    }
   ],
   "source": [
    "# Visualize the Categories\n",
    "sns.countplot(data['sentiments'])\n",
    "plt.title(\"Category Counts\")\n",
    "plt.figure(figsize=(20,10))\n",
    "plt.show()"
   ]
  },
  {
   "cell_type": "markdown",
   "metadata": {},
   "source": [
    "## Label Encoder"
   ]
  },
  {
   "cell_type": "code",
   "execution_count": 608,
   "metadata": {},
   "outputs": [
    {
     "data": {
      "text/html": [
       "<div>\n",
       "<style scoped>\n",
       "    .dataframe tbody tr th:only-of-type {\n",
       "        vertical-align: middle;\n",
       "    }\n",
       "\n",
       "    .dataframe tbody tr th {\n",
       "        vertical-align: top;\n",
       "    }\n",
       "\n",
       "    .dataframe thead th {\n",
       "        text-align: right;\n",
       "    }\n",
       "</style>\n",
       "<table border=\"1\" class=\"dataframe\">\n",
       "  <thead>\n",
       "    <tr style=\"text-align: right;\">\n",
       "      <th></th>\n",
       "      <th>class</th>\n",
       "      <th>sentiments</th>\n",
       "      <th>feelings</th>\n",
       "      <th>prepration</th>\n",
       "      <th>Category_enc</th>\n",
       "    </tr>\n",
       "  </thead>\n",
       "  <tbody>\n",
       "    <tr>\n",
       "      <th>0</th>\n",
       "      <td>1</td>\n",
       "      <td>good</td>\n",
       "      <td>feeling like say study much</td>\n",
       "      <td>intermediate</td>\n",
       "      <td>1</td>\n",
       "    </tr>\n",
       "    <tr>\n",
       "      <th>1</th>\n",
       "      <td>1</td>\n",
       "      <td>good</td>\n",
       "      <td>feeling good</td>\n",
       "      <td>going well</td>\n",
       "      <td>1</td>\n",
       "    </tr>\n",
       "    <tr>\n",
       "      <th>2</th>\n",
       "      <td>0</td>\n",
       "      <td>bad</td>\n",
       "      <td>feel suicide</td>\n",
       "      <td>say bad</td>\n",
       "      <td>0</td>\n",
       "    </tr>\n",
       "    <tr>\n",
       "      <th>3</th>\n",
       "      <td>0</td>\n",
       "      <td>bad</td>\n",
       "      <td>fare mind</td>\n",
       "      <td>nothing</td>\n",
       "      <td>0</td>\n",
       "    </tr>\n",
       "    <tr>\n",
       "      <th>4</th>\n",
       "      <td>0</td>\n",
       "      <td>bad</td>\n",
       "      <td>quite scared</td>\n",
       "      <td>prepared yet</td>\n",
       "      <td>0</td>\n",
       "    </tr>\n",
       "  </tbody>\n",
       "</table>\n",
       "</div>"
      ],
      "text/plain": [
       "   class sentiments                     feelings    prepration  Category_enc\n",
       "0      1       good  feeling like say study much  intermediate             1\n",
       "1      1       good                 feeling good    going well             1\n",
       "2      0        bad                 feel suicide       say bad             0\n",
       "3      0        bad                    fare mind       nothing             0\n",
       "4      0        bad                 quite scared  prepared yet             0"
      ]
     },
     "metadata": {},
     "output_type": "display_data"
    },
    {
     "name": "stdout",
     "output_type": "stream",
     "text": [
      "class            int64\n",
      "sentiments      object\n",
      "feelings        object\n",
      "prepration      object\n",
      "Category_enc     int32\n",
      "dtype: object\n"
     ]
    }
   ],
   "source": [
    "# Initialize the Label Encoder.\n",
    "le = LabelEncoder()\n",
    "\n",
    "# Encode the categories\n",
    "data['Category_enc'] = le.fit_transform(data['sentiments'])\n",
    "\n",
    "# Display the first five rows again to see the result\n",
    "display(data.head())\n",
    "\n",
    "# Print the datatypes\n",
    "corpus=[]\n",
    "print(data.dtypes)"
   ]
  },
  {
   "cell_type": "code",
   "execution_count": 609,
   "metadata": {},
   "outputs": [
    {
     "data": {
      "text/html": [
       "<div>\n",
       "<style scoped>\n",
       "    .dataframe tbody tr th:only-of-type {\n",
       "        vertical-align: middle;\n",
       "    }\n",
       "\n",
       "    .dataframe tbody tr th {\n",
       "        vertical-align: top;\n",
       "    }\n",
       "\n",
       "    .dataframe thead th {\n",
       "        text-align: right;\n",
       "    }\n",
       "</style>\n",
       "<table border=\"1\" class=\"dataframe\">\n",
       "  <thead>\n",
       "    <tr style=\"text-align: right;\">\n",
       "      <th></th>\n",
       "      <th>class</th>\n",
       "      <th>sentiments</th>\n",
       "      <th>feelings</th>\n",
       "      <th>prepration</th>\n",
       "      <th>Category_enc</th>\n",
       "    </tr>\n",
       "  </thead>\n",
       "  <tbody>\n",
       "    <tr>\n",
       "      <th>0</th>\n",
       "      <td>1</td>\n",
       "      <td>good</td>\n",
       "      <td>feeling like say study much</td>\n",
       "      <td>intermediate</td>\n",
       "      <td>1</td>\n",
       "    </tr>\n",
       "    <tr>\n",
       "      <th>1</th>\n",
       "      <td>1</td>\n",
       "      <td>good</td>\n",
       "      <td>feeling good</td>\n",
       "      <td>going well</td>\n",
       "      <td>1</td>\n",
       "    </tr>\n",
       "    <tr>\n",
       "      <th>2</th>\n",
       "      <td>0</td>\n",
       "      <td>bad</td>\n",
       "      <td>feel suicide</td>\n",
       "      <td>say bad</td>\n",
       "      <td>0</td>\n",
       "    </tr>\n",
       "    <tr>\n",
       "      <th>3</th>\n",
       "      <td>0</td>\n",
       "      <td>bad</td>\n",
       "      <td>fare mind</td>\n",
       "      <td>nothing</td>\n",
       "      <td>0</td>\n",
       "    </tr>\n",
       "    <tr>\n",
       "      <th>4</th>\n",
       "      <td>0</td>\n",
       "      <td>bad</td>\n",
       "      <td>quite scared</td>\n",
       "      <td>prepared yet</td>\n",
       "      <td>0</td>\n",
       "    </tr>\n",
       "  </tbody>\n",
       "</table>\n",
       "</div>"
      ],
      "text/plain": [
       "   class sentiments                     feelings    prepration  Category_enc\n",
       "0      1       good  feeling like say study much  intermediate             1\n",
       "1      1       good                 feeling good    going well             1\n",
       "2      0        bad                 feel suicide       say bad             0\n",
       "3      0        bad                    fare mind       nothing             0\n",
       "4      0        bad                 quite scared  prepared yet             0"
      ]
     },
     "execution_count": 609,
     "metadata": {},
     "output_type": "execute_result"
    }
   ],
   "source": [
    "data.head()"
   ]
  },
  {
   "cell_type": "code",
   "execution_count": 610,
   "metadata": {
    "id": "WEmPMS9vCWcf"
   },
   "outputs": [],
   "source": [
    "# X = data[['feelings','prepration']]\n",
    "X = data['feelings']\n",
    "y = data['Category_enc']"
   ]
  },
  {
   "cell_type": "code",
   "execution_count": 611,
   "metadata": {},
   "outputs": [],
   "source": [
    "X_train, X_test, y_train, y_test = train_test_split(X, y, test_size=0.20,random_state=58)"
   ]
  },
  {
   "cell_type": "code",
   "execution_count": 612,
   "metadata": {},
   "outputs": [
    {
     "name": "stdout",
     "output_type": "stream",
     "text": [
      "(196,)\n",
      "(196,)\n",
      "(50,)\n",
      "(50,)\n"
     ]
    }
   ],
   "source": [
    "print(X_train.shape)\n",
    "print(y_train.shape)\n",
    "print(X_test.shape)\n",
    "print(y_test.shape)"
   ]
  },
  {
   "cell_type": "code",
   "execution_count": 613,
   "metadata": {},
   "outputs": [],
   "source": [
    "# Create the tf-idf vectorizer\n",
    "from sklearn.feature_extraction.text import CountVectorizer\n",
    "# vectorizer = TfidfVectorizer(strip_accents='ascii')\n",
    "count_vect = CountVectorizer(max_features = 320)\n",
    "\n",
    "# First fit the vectorizer with our training set\n",
    "X_tfidf_train = count_vect.fit_transform(X_train)\n",
    "\n",
    "# Now we can fit our test data with the same vectorizer\n",
    "X_tfidf_test = count_vect.transform(X_test)"
   ]
  },
  {
   "cell_type": "code",
   "execution_count": 614,
   "metadata": {},
   "outputs": [],
   "source": [
    "# X_tfidf_train\n",
    "# print()\n",
    "# print(X_tfidf_test)"
   ]
  },
  {
   "cell_type": "code",
   "execution_count": 615,
   "metadata": {},
   "outputs": [
    {
     "name": "stdout",
     "output_type": "stream",
     "text": [
      "Accuracy: 0.8\n"
     ]
    }
   ],
   "source": [
    "# Initialize the Multinomial Naive Bayes classifier\n",
    "nb = MultinomialNB()\n",
    "\n",
    "# Fit the model\n",
    "nb.fit(X_tfidf_train, y_train)\n",
    "\n",
    "# Print the accuracy score\n",
    "print(\"Accuracy:\",nb.score(X_tfidf_test, y_test))"
   ]
  },
  {
   "cell_type": "code",
   "execution_count": 616,
   "metadata": {},
   "outputs": [],
   "source": [
    "# Predict the labels\n",
    "y_pred = nb.predict(X_tfidf_test)"
   ]
  },
  {
   "cell_type": "code",
   "execution_count": 617,
   "metadata": {},
   "outputs": [
    {
     "data": {
      "text/plain": [
       "array([0, 0, 0, 0, 0, 0, 0, 0, 0, 0, 0, 0, 0, 0, 0, 0, 0, 0, 0, 0, 0, 1,\n",
       "       0, 0, 0, 0, 0, 0, 0, 0, 0, 0, 1, 1, 0, 1, 0, 0, 0, 0, 1, 0, 0, 0,\n",
       "       0, 0, 0, 0, 0, 0])"
      ]
     },
     "execution_count": 617,
     "metadata": {},
     "output_type": "execute_result"
    }
   ],
   "source": [
    "y_pred"
   ]
  },
  {
   "cell_type": "code",
   "execution_count": 618,
   "metadata": {},
   "outputs": [
    {
     "name": "stdout",
     "output_type": "stream",
     "text": [
      "Confusion Matrix\n",
      "\n",
      "[[35  0]\n",
      " [10  5]]\n"
     ]
    }
   ],
   "source": [
    "# Print the Confusion Matrix\n",
    "cm = confusion_matrix(y_test, y_pred)\n",
    "print(\"Confusion Matrix\\n\")\n",
    "print(cm)"
   ]
  },
  {
   "cell_type": "code",
   "execution_count": 619,
   "metadata": {},
   "outputs": [
    {
     "name": "stdout",
     "output_type": "stream",
     "text": [
      "\n",
      "\n",
      "Classification Report\n",
      "\n",
      "              precision    recall  f1-score   support\n",
      "\n",
      "           0       0.78      1.00      0.88        35\n",
      "           1       1.00      0.33      0.50        15\n",
      "\n",
      "    accuracy                           0.80        50\n",
      "   macro avg       0.89      0.67      0.69        50\n",
      "weighted avg       0.84      0.80      0.76        50\n",
      "\n"
     ]
    }
   ],
   "source": [
    "# Print the Classification Report\n",
    "cr = classification_report(y_test, y_pred)\n",
    "print(\"\\n\\nClassification Report\\n\")\n",
    "print(cr)"
   ]
  }
 ],
 "metadata": {
  "colab": {
   "provenance": []
  },
  "kernelspec": {
   "display_name": "Python 3 (ipykernel)",
   "language": "python",
   "name": "python3"
  },
  "language_info": {
   "codemirror_mode": {
    "name": "ipython",
    "version": 3
   },
   "file_extension": ".py",
   "mimetype": "text/x-python",
   "name": "python",
   "nbconvert_exporter": "python",
   "pygments_lexer": "ipython3",
   "version": "3.9.12"
  }
 },
 "nbformat": 4,
 "nbformat_minor": 1
}
